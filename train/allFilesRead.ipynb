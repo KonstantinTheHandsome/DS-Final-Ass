{
 "cells": [
  {
   "cell_type": "code",
   "execution_count": 2,
   "metadata": {},
   "outputs": [],
   "source": [
    "import pandas as pd\n",
    "\n",
    "allCSV_list = []\n",
    "\n",
    "for i in range(1723):\n",
    "    file = pd.read_csv(f'{i}.csv')\n",
    "    allCSV_list.append(file)\n",
    "\n",
    "allCSV = pd.concat(allCSV_list, ignore_index=True)\n"
   ]
  },
  {
   "cell_type": "code",
   "execution_count": 5,
   "metadata": {},
   "outputs": [
    {
     "data": {
      "text/html": [
       "<div>\n",
       "<style scoped>\n",
       "    .dataframe tbody tr th:only-of-type {\n",
       "        vertical-align: middle;\n",
       "    }\n",
       "\n",
       "    .dataframe tbody tr th {\n",
       "        vertical-align: top;\n",
       "    }\n",
       "\n",
       "    .dataframe thead th {\n",
       "        text-align: right;\n",
       "    }\n",
       "</style>\n",
       "<table border=\"1\" class=\"dataframe\">\n",
       "  <thead>\n",
       "    <tr style=\"text-align: right;\">\n",
       "      <th></th>\n",
       "      <th>b1x;b1y;b4x;b4y</th>\n",
       "    </tr>\n",
       "  </thead>\n",
       "  <tbody>\n",
       "    <tr>\n",
       "      <th>0</th>\n",
       "      <td>-0.022;-0.039;-0.129;-0.142</td>\n",
       "    </tr>\n",
       "    <tr>\n",
       "      <th>1</th>\n",
       "      <td>-0.105;-0.017;-0.115;-0.122</td>\n",
       "    </tr>\n",
       "    <tr>\n",
       "      <th>2</th>\n",
       "      <td>-0.183;-0.098;-0.171;-0.071</td>\n",
       "    </tr>\n",
       "    <tr>\n",
       "      <th>3</th>\n",
       "      <td>-0.178;-0.161;-0.112;-0.078</td>\n",
       "    </tr>\n",
       "    <tr>\n",
       "      <th>4</th>\n",
       "      <td>-0.208;-0.129;-0.063;-0.066</td>\n",
       "    </tr>\n",
       "    <tr>\n",
       "      <th>...</th>\n",
       "      <td>...</td>\n",
       "    </tr>\n",
       "    <tr>\n",
       "      <th>35287035</th>\n",
       "      <td>-0.117;-0.117;-0.105;-0.137</td>\n",
       "    </tr>\n",
       "    <tr>\n",
       "      <th>35287036</th>\n",
       "      <td>-0.029;-0.071;-0.139;-0.249</td>\n",
       "    </tr>\n",
       "    <tr>\n",
       "      <th>35287037</th>\n",
       "      <td>-0.183;0.09;-0.137;-0.105</td>\n",
       "    </tr>\n",
       "    <tr>\n",
       "      <th>35287038</th>\n",
       "      <td>-0.359;0.049;-0.049;-0.081</td>\n",
       "    </tr>\n",
       "    <tr>\n",
       "      <th>35287039</th>\n",
       "      <td>-0.281;0.01;-0.1;0.042</td>\n",
       "    </tr>\n",
       "  </tbody>\n",
       "</table>\n",
       "<p>35287040 rows × 1 columns</p>\n",
       "</div>"
      ],
      "text/plain": [
       "                      b1x;b1y;b4x;b4y\n",
       "0         -0.022;-0.039;-0.129;-0.142\n",
       "1         -0.105;-0.017;-0.115;-0.122\n",
       "2         -0.183;-0.098;-0.171;-0.071\n",
       "3         -0.178;-0.161;-0.112;-0.078\n",
       "4         -0.208;-0.129;-0.063;-0.066\n",
       "...                               ...\n",
       "35287035  -0.117;-0.117;-0.105;-0.137\n",
       "35287036  -0.029;-0.071;-0.139;-0.249\n",
       "35287037    -0.183;0.09;-0.137;-0.105\n",
       "35287038   -0.359;0.049;-0.049;-0.081\n",
       "35287039       -0.281;0.01;-0.1;0.042\n",
       "\n",
       "[35287040 rows x 1 columns]"
      ]
     },
     "execution_count": 5,
     "metadata": {},
     "output_type": "execute_result"
    }
   ],
   "source": [
    "allCSV"
   ]
  },
  {
   "cell_type": "code",
   "execution_count": null,
   "metadata": {},
   "outputs": [],
   "source": []
  }
 ],
 "metadata": {
  "kernelspec": {
   "display_name": "Python 3",
   "language": "python",
   "name": "python3"
  },
  "language_info": {
   "codemirror_mode": {
    "name": "ipython",
    "version": 3
   },
   "file_extension": ".py",
   "mimetype": "text/x-python",
   "name": "python",
   "nbconvert_exporter": "python",
   "pygments_lexer": "ipython3",
   "version": "3.11.5"
  }
 },
 "nbformat": 4,
 "nbformat_minor": 2
}
