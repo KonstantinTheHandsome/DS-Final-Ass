{
 "cells": [
  {
   "cell_type": "code",
   "execution_count": 2,
   "metadata": {},
   "outputs": [],
   "source": [
    "import pandas as pd\n",
    "import matplotlib.pyplot as plt\n",
    "import numpy as np\n",
    "from sklearn.metrics import mean_squared_error "
   ]
  },
  {
   "cell_type": "code",
   "execution_count": 3,
   "metadata": {},
   "outputs": [],
   "source": [
    "def getNumbers(csvFile):\n",
    "    data = pd.read_csv(csvFile)\n",
    "\n",
    "    # Split the combined column into separate columns\n",
    "    data[['b1x', 'b1y', 'b4x', 'b4y']] = data['b1x;b1y;b4x;b4y'].str.split(';', expand=True)\n",
    "\n",
    "    # Drop the original combined column\n",
    "    data = data.drop(columns=['b1x;b1y;b4x;b4y'])\n",
    "\n",
    "    # Convert the new columns to numeric types\n",
    "    data[['b1x', 'b1y', 'b4x', 'b4y']] = data[['b1x', 'b1y', 'b4x', 'b4y']].apply(pd.to_numeric)\n",
    "\n",
    "    means=list(data[['b4x', 'b4y']].astype(float).mean())\n",
    "    stds=list(data[['b4x', 'b4y']].astype(float).std(ddof=1))\n",
    "    rms=list((data[['b4x', 'b4y']].astype(float)**2).mean()**0.5)\n",
    "\n",
    "    return means, stds, rms\n",
    "\n",
    "means, std, rms = getNumbers('0.csv')\n"
   ]
  },
  {
   "cell_type": "code",
   "execution_count": 4,
   "metadata": {},
   "outputs": [
    {
     "name": "stdout",
     "output_type": "stream",
     "text": [
      "[-0.09096875, -0.094235205078125]\n"
     ]
    }
   ],
   "source": [
    "print(means)"
   ]
  },
  {
   "cell_type": "code",
   "execution_count": null,
   "metadata": {},
   "outputs": [],
   "source": []
  }
 ],
 "metadata": {
  "kernelspec": {
   "display_name": "base",
   "language": "python",
   "name": "python3"
  },
  "language_info": {
   "codemirror_mode": {
    "name": "ipython",
    "version": 3
   },
   "file_extension": ".py",
   "mimetype": "text/x-python",
   "name": "python",
   "nbconvert_exporter": "python",
   "pygments_lexer": "ipython3",
   "version": "3.11.5"
  }
 },
 "nbformat": 4,
 "nbformat_minor": 2
}
