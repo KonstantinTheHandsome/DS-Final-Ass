{
 "cells": [
  {
   "cell_type": "code",
   "execution_count": 22,
   "metadata": {},
   "outputs": [],
   "source": [
    "import pandas as pd\n",
    "import matplotlib.pyplot as plt\n",
    "import numpy as np\n",
    "from sklearn.metrics import mean_squared_error "
   ]
  },
  {
   "cell_type": "code",
   "execution_count": 48,
   "metadata": {},
   "outputs": [
    {
     "data": {
      "text/plain": [
       "11145"
      ]
     },
     "execution_count": 48,
     "metadata": {},
     "output_type": "execute_result"
    }
   ],
   "source": [
    "data = pd.read_csv('0.csv')\n",
    "\n",
    "# Split the combined column into separate columns\n",
    "data[['b1x', 'b1y', 'b4x', 'b4y']] = data['b1x;b1y;b4x;b4y'].str.split(';', expand=True)\n",
    "\n",
    "means=list(data[['b4x', 'b4y']].astype(float).mean())\n",
    "stds=list(data[['b4x', 'b4y']].astype(float).std(ddof=1))\n",
    "rms=list((data[['b4x', 'b4y']].astype(float)**2).mean()**0.5)\n"
   ]
  }
 ],
 "metadata": {
  "kernelspec": {
   "display_name": "base",
   "language": "python",
   "name": "python3"
  },
  "language_info": {
   "codemirror_mode": {
    "name": "ipython",
    "version": 3
   },
   "file_extension": ".py",
   "mimetype": "text/x-python",
   "name": "python",
   "nbconvert_exporter": "python",
   "pygments_lexer": "ipython3",
   "version": "3.11.5"
  }
 },
 "nbformat": 4,
 "nbformat_minor": 2
}
