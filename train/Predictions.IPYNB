{
 "cells": [
  {
   "cell_type": "code",
   "execution_count": 94,
   "metadata": {},
   "outputs": [],
   "source": [
    "import numpy as np\n",
    "import matplotlib.pyplot as plt\n",
    "import pandas as pd\n",
    "import scipy.stats as sp\n",
    "from sklearn.linear_model import LinearRegression\n",
    "from sklearn.metrics import mean_squared_error, r2_score\n",
    "import statsmodels.api as sm\n",
    "import statsmodels.formula.api as smf\n",
    "from statsmodels.stats.anova import anova_lm\n",
    "from statsmodels.formula.api import ols\n",
    "from sklearn.model_selection import GridSearchCV, train_test_split, RandomizedSearchCV\n",
    "from sklearn.tree import DecisionTreeRegressor\n",
    "from sklearn.ensemble import BaggingRegressor\n",
    "from sklearn.ensemble import AdaBoostRegressor\n",
    "from sklearn.ensemble import RandomForestRegressor\n",
    "from sklearn.svm import SVC"
   ]
  },
  {
   "cell_type": "code",
   "execution_count": 75,
   "metadata": {},
   "outputs": [
    {
     "data": {
      "text/html": [
       "<div>\n",
       "<style scoped>\n",
       "    .dataframe tbody tr th:only-of-type {\n",
       "        vertical-align: middle;\n",
       "    }\n",
       "\n",
       "    .dataframe tbody tr th {\n",
       "        vertical-align: top;\n",
       "    }\n",
       "\n",
       "    .dataframe thead th {\n",
       "        text-align: right;\n",
       "    }\n",
       "</style>\n",
       "<table border=\"1\" class=\"dataframe\">\n",
       "  <thead>\n",
       "    <tr style=\"text-align: right;\">\n",
       "      <th></th>\n",
       "      <th>x_mean</th>\n",
       "      <th>y_mean</th>\n",
       "      <th>x_std</th>\n",
       "      <th>y_std</th>\n",
       "      <th>x_rms</th>\n",
       "      <th>y_rms</th>\n",
       "      <th>x_sf</th>\n",
       "      <th>y_sf</th>\n",
       "      <th>x_peak_count</th>\n",
       "      <th>y_peak_count</th>\n",
       "      <th>bearing_condition</th>\n",
       "    </tr>\n",
       "  </thead>\n",
       "  <tbody>\n",
       "    <tr>\n",
       "      <th>0</th>\n",
       "      <td>-0.090969</td>\n",
       "      <td>-0.094235</td>\n",
       "      <td>0.060086</td>\n",
       "      <td>0.066382</td>\n",
       "      <td>0.109020</td>\n",
       "      <td>0.115267</td>\n",
       "      <td>0.748956</td>\n",
       "      <td>0.796017</td>\n",
       "      <td>13</td>\n",
       "      <td>43</td>\n",
       "      <td>0</td>\n",
       "    </tr>\n",
       "    <tr>\n",
       "      <th>1</th>\n",
       "      <td>-0.091260</td>\n",
       "      <td>-0.087946</td>\n",
       "      <td>0.059421</td>\n",
       "      <td>0.064746</td>\n",
       "      <td>0.108900</td>\n",
       "      <td>0.109208</td>\n",
       "      <td>0.746547</td>\n",
       "      <td>0.790427</td>\n",
       "      <td>10</td>\n",
       "      <td>29</td>\n",
       "      <td>0</td>\n",
       "    </tr>\n",
       "    <tr>\n",
       "      <th>2</th>\n",
       "      <td>-0.092597</td>\n",
       "      <td>-0.093106</td>\n",
       "      <td>0.059969</td>\n",
       "      <td>0.065255</td>\n",
       "      <td>0.110319</td>\n",
       "      <td>0.113696</td>\n",
       "      <td>0.741149</td>\n",
       "      <td>0.791236</td>\n",
       "      <td>11</td>\n",
       "      <td>21</td>\n",
       "      <td>0</td>\n",
       "    </tr>\n",
       "    <tr>\n",
       "      <th>3</th>\n",
       "      <td>-0.093485</td>\n",
       "      <td>-0.093244</td>\n",
       "      <td>0.059917</td>\n",
       "      <td>0.066303</td>\n",
       "      <td>0.111037</td>\n",
       "      <td>0.114413</td>\n",
       "      <td>0.744487</td>\n",
       "      <td>0.787161</td>\n",
       "      <td>5</td>\n",
       "      <td>22</td>\n",
       "      <td>0</td>\n",
       "    </tr>\n",
       "    <tr>\n",
       "      <th>4</th>\n",
       "      <td>-0.104769</td>\n",
       "      <td>-0.093042</td>\n",
       "      <td>0.058607</td>\n",
       "      <td>0.065404</td>\n",
       "      <td>0.120046</td>\n",
       "      <td>0.113729</td>\n",
       "      <td>0.746573</td>\n",
       "      <td>0.792580</td>\n",
       "      <td>2</td>\n",
       "      <td>24</td>\n",
       "      <td>0</td>\n",
       "    </tr>\n",
       "  </tbody>\n",
       "</table>\n",
       "</div>"
      ],
      "text/plain": [
       "     x_mean    y_mean     x_std     y_std     x_rms     y_rms      x_sf  \\\n",
       "0 -0.090969 -0.094235  0.060086  0.066382  0.109020  0.115267  0.748956   \n",
       "1 -0.091260 -0.087946  0.059421  0.064746  0.108900  0.109208  0.746547   \n",
       "2 -0.092597 -0.093106  0.059969  0.065255  0.110319  0.113696  0.741149   \n",
       "3 -0.093485 -0.093244  0.059917  0.066303  0.111037  0.114413  0.744487   \n",
       "4 -0.104769 -0.093042  0.058607  0.065404  0.120046  0.113729  0.746573   \n",
       "\n",
       "       y_sf  x_peak_count  y_peak_count  bearing_condition  \n",
       "0  0.796017            13            43                  0  \n",
       "1  0.790427            10            29                  0  \n",
       "2  0.791236            11            21                  0  \n",
       "3  0.787161             5            22                  0  \n",
       "4  0.792580             2            24                  0  "
      ]
     },
     "execution_count": 75,
     "metadata": {},
     "output_type": "execute_result"
    }
   ],
   "source": [
    "dat = pd.read_csv('bearing_prediction_data.csv', index_col= 0)\n",
    "dat.head()"
   ]
  },
  {
   "cell_type": "code",
   "execution_count": 76,
   "metadata": {},
   "outputs": [
    {
     "name": "stdout",
     "output_type": "stream",
     "text": [
      "                            OLS Regression Results                            \n",
      "==============================================================================\n",
      "Dep. Variable:      bearing_condition   R-squared:                       0.888\n",
      "Model:                            OLS   Adj. R-squared:                  0.888\n",
      "Method:                 Least Squares   F-statistic:                     1362.\n",
      "Date:                Thu, 20 Jun 2024   Prob (F-statistic):               0.00\n",
      "Time:                        12:20:33   Log-Likelihood:                -906.72\n",
      "No. Observations:                1724   AIC:                             1835.\n",
      "Df Residuals:                    1713   BIC:                             1895.\n",
      "Df Model:                          10                                         \n",
      "Covariance Type:            nonrobust                                         \n",
      "================================================================================\n",
      "                   coef    std err          t      P>|t|      [0.025      0.975]\n",
      "--------------------------------------------------------------------------------\n",
      "Intercept       11.8095      1.522      7.760      0.000       8.825      14.794\n",
      "x_mean         -95.1338     11.277     -8.436      0.000    -117.253     -73.015\n",
      "y_mean         -97.4115     17.079     -5.704      0.000    -130.909     -63.914\n",
      "x_std           45.6474     11.785      3.873      0.000      22.533      68.762\n",
      "y_std          164.5721     14.336     11.480      0.000     136.454     192.690\n",
      "x_rms         -125.0479     14.609     -8.560      0.000    -153.701     -96.395\n",
      "y_rms         -113.3987     21.406     -5.298      0.000    -155.383     -71.415\n",
      "x_sf           -21.0953      1.836    -11.493      0.000     -24.696     -17.495\n",
      "y_sf            -0.5871      2.039     -0.288      0.773      -4.586       3.412\n",
      "x_peak_count     0.0045      0.001      7.430      0.000       0.003       0.006\n",
      "y_peak_count    -0.0148      0.001    -19.991      0.000      -0.016      -0.013\n",
      "==============================================================================\n",
      "Omnibus:                       80.808   Durbin-Watson:                   0.317\n",
      "Prob(Omnibus):                  0.000   Jarque-Bera (JB):               91.207\n",
      "Skew:                           0.548   Prob(JB):                     1.57e-20\n",
      "Kurtosis:                       3.258   Cond. No.                     2.73e+05\n",
      "==============================================================================\n",
      "\n",
      "Notes:\n",
      "[1] Standard Errors assume that the covariance matrix of the errors is correctly specified.\n",
      "[2] The condition number is large, 2.73e+05. This might indicate that there are\n",
      "strong multicollinearity or other numerical problems.\n"
     ]
    }
   ],
   "source": [
    "model = smf.ols('bearing_condition ~ x_mean + y_mean + x_std + y_std + x_rms + y_rms + x_sf + y_sf + x_peak_count + y_peak_count', data = dat).fit()\n",
    "print(model.summary())"
   ]
  },
  {
   "cell_type": "code",
   "execution_count": 90,
   "metadata": {},
   "outputs": [
    {
     "name": "stdout",
     "output_type": "stream",
     "text": [
      "Logistic Regression Accuracy: 0.8840579710144928\n",
      "Random Forest Accuracy: 0.9072463768115943\n",
      "Logistic Regression Classification Report:\n",
      "               precision    recall  f1-score   support\n",
      "\n",
      "           0       0.90      0.90      0.90        29\n",
      "           1       0.88      0.89      0.89       143\n",
      "           2       0.75      0.79      0.77        66\n",
      "           3       1.00      0.88      0.94        58\n",
      "           4       0.94      1.00      0.97        49\n",
      "\n",
      "    accuracy                           0.88       345\n",
      "   macro avg       0.89      0.89      0.89       345\n",
      "weighted avg       0.89      0.88      0.88       345\n",
      "\n",
      "Random Forest Classification Report:\n",
      "               precision    recall  f1-score   support\n",
      "\n",
      "           0       0.90      0.97      0.93        29\n",
      "           1       0.90      0.91      0.90       143\n",
      "           2       0.84      0.79      0.81        66\n",
      "           3       1.00      0.93      0.96        58\n",
      "           4       0.92      1.00      0.96        49\n",
      "\n",
      "    accuracy                           0.91       345\n",
      "   macro avg       0.91      0.92      0.91       345\n",
      "weighted avg       0.91      0.91      0.91       345\n",
      "\n"
     ]
    }
   ],
   "source": [
    "import pandas as pd\n",
    "from sklearn.model_selection import train_test_split\n",
    "from sklearn.preprocessing import StandardScaler\n",
    "from sklearn.linear_model import LogisticRegression\n",
    "from sklearn.ensemble import RandomForestClassifier\n",
    "from sklearn.metrics import accuracy_score, classification_report\n",
    "\n",
    "# Load your data\n",
    "# Assuming 'data' is your dataframe\n",
    "X = dat.drop('bearing_condition', axis=1)\n",
    "y = dat['bearing_condition']\n",
    "\n",
    "# Split the data\n",
    "X_train, X_test, y_train, y_test = train_test_split(X, y, test_size=0.2, random_state=42)\n",
    "\n",
    "# Scale the features\n",
    "scaler = StandardScaler()\n",
    "X_train = scaler.fit_transform(X_train)\n",
    "X_test = scaler.transform(X_test)\n",
    "\n",
    "# Initialize the models\n",
    "log_reg = LogisticRegression()\n",
    "rf_clf = RandomForestClassifier()\n",
    "\n",
    "# Train the models\n",
    "log_reg.fit(X_train, y_train)\n",
    "rf_clf.fit(X_train, y_train)\n",
    "\n",
    "# Make predictions\n",
    "y_pred_log_reg = log_reg.predict(X_test)\n",
    "y_pred_rf = rf_clf.predict(X_test)\n",
    "\n",
    "# Evaluate the models\n",
    "print(\"Logistic Regression Accuracy:\", accuracy_score(y_test, y_pred_log_reg))\n",
    "print(\"Random Forest Accuracy:\", accuracy_score(y_test, y_pred_rf))\n",
    "\n",
    "print(\"Logistic Regression Classification Report:\\n\", classification_report(y_test, y_pred_log_reg))\n",
    "print(\"Random Forest Classification Report:\\n\", classification_report(y_test, y_pred_rf))\n"
   ]
  },
  {
   "cell_type": "code",
   "execution_count": null,
   "metadata": {},
   "outputs": [],
   "source": [
    "    # Define hyperparameter grid for Random Forest Regression\n",
    "param_grid_rf = {\n",
    "   'n_estimators': [20, 50, 90],\n",
    "   'max_depth': [3, 5, 8],\n",
    "   'min_samples_split': [2, 5, 10],\n",
    "   'min_samples_leaf': [1, 4, 8]\n",
    "}\n",
    "# Define hyperparameter grid for AdaBoostRegressor (for comparison)\n",
    "param_grid_adaboost = {'n_estimators': [20, 50, 90]}\n",
    "# Create Random Forest Regressor and AdaBoostRegressor objects\n",
    "rf_reg = RandomForestRegressor()\n",
    "ada_reg = AdaBoostRegressor(base_estimator=DecisionTreeRegressor())\n",
    "# **Grid Search for Random Forest Regression:**\n",
    "grid_search_rf = GridSearchCV(rf_reg, param_grid_rf, scoring='neg_mean_squared_error', cv=5)\n",
    "grid_search_rf.fit(X_train, y_train)\n",
    "best_params_rf = grid_search_rf.best_params_\n",
    "best_model_rf = grid_search_rf.best_estimator_\n",
    "# **Comparison by Plotting Performance vs Number of Trees (for Random Forest):**\n",
    "n_estimators_range = range(50, 251, 50)  # Range of number of estimators to evaluate\n",
    "mse_scores_rf = []\n",
    "for n_estimators in n_estimators_range:\n",
    "   rf_reg = RandomForestRegressor(n_estimators=n_estimators)\n",
    "   rf_reg.fit(X_train, y_train)\n",
    "   y_predicted = rf_reg.predict(X_test)\n",
    "   mse_scores_rf.append(mean_squared_error(y_test, y_predicted))\n",
    "plt.plot(n_estimators_range, mse_scores_rf, label='Random Forest')  # Add label for clarity\n",
    "best_model_rf_predictions = best_model_rf.predict(X_test)\n",
    "best_model_rf_mse = mean_squared_error(y_test, best_model_rf_predictions)\n",
    "best_model_rf_r2 = r2_score(y_test, best_model_rf_predictions)\n",
    "# Print MSE and R2 for Random Forest\n",
    "print(\"Random Forest Best Model Mean Squared Error:\", best_model_rf_mse)\n",
    "print(\"Random Forest Best Model R2 Score:\", best_model_rf_r2)"
   ]
  },
  {
   "cell_type": "code",
   "execution_count": 117,
   "metadata": {},
   "outputs": [
    {
     "data": {
      "text/html": [
       "<style>#sk-container-id-1 {color: black;}#sk-container-id-1 pre{padding: 0;}#sk-container-id-1 div.sk-toggleable {background-color: white;}#sk-container-id-1 label.sk-toggleable__label {cursor: pointer;display: block;width: 100%;margin-bottom: 0;padding: 0.3em;box-sizing: border-box;text-align: center;}#sk-container-id-1 label.sk-toggleable__label-arrow:before {content: \"▸\";float: left;margin-right: 0.25em;color: #696969;}#sk-container-id-1 label.sk-toggleable__label-arrow:hover:before {color: black;}#sk-container-id-1 div.sk-estimator:hover label.sk-toggleable__label-arrow:before {color: black;}#sk-container-id-1 div.sk-toggleable__content {max-height: 0;max-width: 0;overflow: hidden;text-align: left;background-color: #f0f8ff;}#sk-container-id-1 div.sk-toggleable__content pre {margin: 0.2em;color: black;border-radius: 0.25em;background-color: #f0f8ff;}#sk-container-id-1 input.sk-toggleable__control:checked~div.sk-toggleable__content {max-height: 200px;max-width: 100%;overflow: auto;}#sk-container-id-1 input.sk-toggleable__control:checked~label.sk-toggleable__label-arrow:before {content: \"▾\";}#sk-container-id-1 div.sk-estimator input.sk-toggleable__control:checked~label.sk-toggleable__label {background-color: #d4ebff;}#sk-container-id-1 div.sk-label input.sk-toggleable__control:checked~label.sk-toggleable__label {background-color: #d4ebff;}#sk-container-id-1 input.sk-hidden--visually {border: 0;clip: rect(1px 1px 1px 1px);clip: rect(1px, 1px, 1px, 1px);height: 1px;margin: -1px;overflow: hidden;padding: 0;position: absolute;width: 1px;}#sk-container-id-1 div.sk-estimator {font-family: monospace;background-color: #f0f8ff;border: 1px dotted black;border-radius: 0.25em;box-sizing: border-box;margin-bottom: 0.5em;}#sk-container-id-1 div.sk-estimator:hover {background-color: #d4ebff;}#sk-container-id-1 div.sk-parallel-item::after {content: \"\";width: 100%;border-bottom: 1px solid gray;flex-grow: 1;}#sk-container-id-1 div.sk-label:hover label.sk-toggleable__label {background-color: #d4ebff;}#sk-container-id-1 div.sk-serial::before {content: \"\";position: absolute;border-left: 1px solid gray;box-sizing: border-box;top: 0;bottom: 0;left: 50%;z-index: 0;}#sk-container-id-1 div.sk-serial {display: flex;flex-direction: column;align-items: center;background-color: white;padding-right: 0.2em;padding-left: 0.2em;position: relative;}#sk-container-id-1 div.sk-item {position: relative;z-index: 1;}#sk-container-id-1 div.sk-parallel {display: flex;align-items: stretch;justify-content: center;background-color: white;position: relative;}#sk-container-id-1 div.sk-item::before, #sk-container-id-1 div.sk-parallel-item::before {content: \"\";position: absolute;border-left: 1px solid gray;box-sizing: border-box;top: 0;bottom: 0;left: 50%;z-index: -1;}#sk-container-id-1 div.sk-parallel-item {display: flex;flex-direction: column;z-index: 1;position: relative;background-color: white;}#sk-container-id-1 div.sk-parallel-item:first-child::after {align-self: flex-end;width: 50%;}#sk-container-id-1 div.sk-parallel-item:last-child::after {align-self: flex-start;width: 50%;}#sk-container-id-1 div.sk-parallel-item:only-child::after {width: 0;}#sk-container-id-1 div.sk-dashed-wrapped {border: 1px dashed gray;margin: 0 0.4em 0.5em 0.4em;box-sizing: border-box;padding-bottom: 0.4em;background-color: white;}#sk-container-id-1 div.sk-label label {font-family: monospace;font-weight: bold;display: inline-block;line-height: 1.2em;}#sk-container-id-1 div.sk-label-container {text-align: center;}#sk-container-id-1 div.sk-container {/* jupyter's `normalize.less` sets `[hidden] { display: none; }` but bootstrap.min.css set `[hidden] { display: none !important; }` so we also need the `!important` here to be able to override the default hidden behavior on the sphinx rendered scikit-learn.org. See: https://github.com/scikit-learn/scikit-learn/issues/21755 */display: inline-block !important;position: relative;}#sk-container-id-1 div.sk-text-repr-fallback {display: none;}</style><div id=\"sk-container-id-1\" class=\"sk-top-container\"><div class=\"sk-text-repr-fallback\"><pre>GridSearchCV(cv=5, estimator=RandomForestClassifier(),\n",
       "             param_grid={&#x27;max_depth&#x27;: [3, 5, 8], &#x27;min_samples_leaf&#x27;: [1, 4, 8],\n",
       "                         &#x27;min_samples_split&#x27;: [2, 5, 10],\n",
       "                         &#x27;n_estimators&#x27;: [20, 50, 90]})</pre><b>In a Jupyter environment, please rerun this cell to show the HTML representation or trust the notebook. <br />On GitHub, the HTML representation is unable to render, please try loading this page with nbviewer.org.</b></div><div class=\"sk-container\" hidden><div class=\"sk-item sk-dashed-wrapped\"><div class=\"sk-label-container\"><div class=\"sk-label sk-toggleable\"><input class=\"sk-toggleable__control sk-hidden--visually\" id=\"sk-estimator-id-1\" type=\"checkbox\" ><label for=\"sk-estimator-id-1\" class=\"sk-toggleable__label sk-toggleable__label-arrow\">GridSearchCV</label><div class=\"sk-toggleable__content\"><pre>GridSearchCV(cv=5, estimator=RandomForestClassifier(),\n",
       "             param_grid={&#x27;max_depth&#x27;: [3, 5, 8], &#x27;min_samples_leaf&#x27;: [1, 4, 8],\n",
       "                         &#x27;min_samples_split&#x27;: [2, 5, 10],\n",
       "                         &#x27;n_estimators&#x27;: [20, 50, 90]})</pre></div></div></div><div class=\"sk-parallel\"><div class=\"sk-parallel-item\"><div class=\"sk-item\"><div class=\"sk-label-container\"><div class=\"sk-label sk-toggleable\"><input class=\"sk-toggleable__control sk-hidden--visually\" id=\"sk-estimator-id-2\" type=\"checkbox\" ><label for=\"sk-estimator-id-2\" class=\"sk-toggleable__label sk-toggleable__label-arrow\">estimator: RandomForestClassifier</label><div class=\"sk-toggleable__content\"><pre>RandomForestClassifier()</pre></div></div></div><div class=\"sk-serial\"><div class=\"sk-item\"><div class=\"sk-estimator sk-toggleable\"><input class=\"sk-toggleable__control sk-hidden--visually\" id=\"sk-estimator-id-3\" type=\"checkbox\" ><label for=\"sk-estimator-id-3\" class=\"sk-toggleable__label sk-toggleable__label-arrow\">RandomForestClassifier</label><div class=\"sk-toggleable__content\"><pre>RandomForestClassifier()</pre></div></div></div></div></div></div></div></div></div></div>"
      ],
      "text/plain": [
       "GridSearchCV(cv=5, estimator=RandomForestClassifier(),\n",
       "             param_grid={'max_depth': [3, 5, 8], 'min_samples_leaf': [1, 4, 8],\n",
       "                         'min_samples_split': [2, 5, 10],\n",
       "                         'n_estimators': [20, 50, 90]})"
      ]
     },
     "execution_count": 117,
     "metadata": {},
     "output_type": "execute_result"
    }
   ],
   "source": [
    "param_grid_rf = {\n",
    "   'n_estimators': [20, 50, 90],\n",
    "   'max_depth': [3, 5, 8],\n",
    "   'min_samples_split': [2, 5, 10],\n",
    "   'min_samples_leaf': [1, 4, 8]\n",
    "}\n",
    "\n",
    "rf = RandomForestClassifier(random_state=42)\n",
    "rf.fit(X_train, y_train)\n",
    "\n",
    "# Create a random forest classifier\n",
    "rf = RandomForestClassifier()\n",
    "\n",
    "# Use random search to find the best hyperparameters\n",
    "rand_search = GridSearchCV(rf, param_grid_rf, cv=5)\n",
    "\n",
    "# Fit the random search object to the data\n",
    "rand_search.fit(X_train, y_train)\n",
    "    "
   ]
  },
  {
   "cell_type": "code",
   "execution_count": 122,
   "metadata": {},
   "outputs": [
    {
     "data": {
      "text/plain": [
       "0.9072463768115943"
      ]
     },
     "execution_count": 122,
     "metadata": {},
     "output_type": "execute_result"
    }
   ],
   "source": [
    "accuracy_score(y_test,rand_search.best_estimator_.predict(X_test))"
   ]
  },
  {
   "cell_type": "code",
   "execution_count": 123,
   "metadata": {},
   "outputs": [
    {
     "data": {
      "image/png": "[encoded data removed]",
      "text/plain": [
       "<Figure size 1000x600 with 1 Axes>"
      ]
     },
     "metadata": {},
     "output_type": "display_data"
    }
   ],
   "source": [
    "\n",
    "rf.fit(X_train, y_train)\n",
    "# Get feature importances\n",
    "importances = rand_search.best_estimator_.feature_importances_\n",
    "# Sort feature importances in descending order\n",
    "indices = np.argsort(importances)[::-1]\n",
    "feature_names = X.columns[indices]\n",
    "importances_sorted = importances[indices]\n",
    "# Create a sorted bar plot\n",
    "plt.figure(figsize=(10, 6))  # Adjust figure size as desired\n",
    "plt.barh(range(len(feature_names)), importances_sorted, color='skyblue')\n",
    "plt.xlabel(\"Feature Importance\")\n",
    "plt.ylabel(\"Feature Name\")\n",
    "plt.title(\"Random Forest Feature Importances (Sorted)\")\n",
    "plt.yticks(range(len(feature_names)), feature_names, fontsize=10)  # Adjust font size as desired\n",
    "plt.gca().invert_yaxis()  # Invert y-axis to display most important feature at the top\n",
    "plt.grid(axis='x', linestyle='--', alpha=0.6)\n",
    "plt.tight_layout()\n",
    "plt.show()"
   ]
  },
  {
   "cell_type": "code",
   "execution_count": null,
   "metadata": {},
   "outputs": [],
   "source": []
  }
 ],
 "metadata": {
  "kernelspec": {
   "display_name": "Python 3",
   "language": "python",
   "name": "python3"
  },
  "language_info": {
   "codemirror_mode": {
    "name": "ipython",
    "version": 3
   },
   "file_extension": ".py",
   "mimetype": "text/x-python",
   "name": "python",
   "nbconvert_exporter": "python",
   "pygments_lexer": "ipython3",
   "version": "3.11.5"
  }
 },
 "nbformat": 4,
 "nbformat_minor": 2
}
